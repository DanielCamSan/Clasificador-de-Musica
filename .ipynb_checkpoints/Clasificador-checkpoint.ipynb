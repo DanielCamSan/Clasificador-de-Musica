{
 "cells": [
  {
   "cell_type": "code",
   "execution_count": null,
   "id": "1566f5b7",
   "metadata": {},
   "outputs": [],
   "source": [
    "import spotipy\n",
    "from spotipy.oauth2 import SpotifyClientCredentials\n",
    "import pandas as pd\n",
    "from datetime import datetime\n",
    "import numpy as np\n",
    "import math\n",
    "\n",
    "client_id = \"6538920d435d4008b7a494fe07783e46\"\n",
    "client_secret = \"7d8bf7518fd64e528602d51e0838d579\"\n"
   ]
  },
  {
   "cell_type": "code",
   "execution_count": null,
   "id": "3aa67699",
   "metadata": {},
   "outputs": [],
   "source": [
    "client_credentials_manager = SpotifyClientCredentials(client_id = client_id, client_secret = client_secret)"
   ]
  },
  {
   "cell_type": "code",
   "execution_count": null,
   "id": "92d5f429",
   "metadata": {},
   "outputs": [],
   "source": [
    "sp_query = spotipy.Spotify(client_credentials_manager=client_credentials_manager)\n"
   ]
  },
  {
   "cell_type": "code",
   "execution_count": null,
   "id": "aca00f28",
   "metadata": {},
   "outputs": [],
   "source": [
    "# Set up query with credentials\n",
    "sp = spotipy.Spotify(\n",
    "            client_credentials_manager=SpotifyClientCredentials(\n",
    "            client_id=client_id,\n",
    "            client_secret=client_secret))\n"
   ]
  },
  {
   "cell_type": "code",
   "execution_count": null,
   "id": "39000ca9",
   "metadata": {},
   "outputs": [],
   "source": [
    "url_jazz = 'spotify:playlist:4RX5Fi21BPhwvBuyNyX2QH'\n",
    "url_hiphop = 'spotify:playlist:3wgMzHp2YD4VNJLGOSRmPl'"
   ]
  }
 ],
 "metadata": {
  "kernelspec": {
   "display_name": "Python 3",
   "language": "python",
   "name": "python3"
  },
  "language_info": {
   "codemirror_mode": {
    "name": "ipython",
    "version": 3
   },
   "file_extension": ".py",
   "mimetype": "text/x-python",
   "name": "python",
   "nbconvert_exporter": "python",
   "pygments_lexer": "ipython3",
   "version": "3.8.8"
  }
 },
 "nbformat": 4,
 "nbformat_minor": 5
}
