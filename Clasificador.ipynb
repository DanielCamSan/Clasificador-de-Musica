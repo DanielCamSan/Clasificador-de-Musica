{
 "cells": [
  {
   "cell_type": "code",
   "execution_count": 1,
   "id": "1566f5b7",
   "metadata": {},
   "outputs": [],
   "source": [
    "import spotipy\n",
    "from spotipy.oauth2 import SpotifyClientCredentials\n",
    "import pandas as pd\n",
    "from datetime import datetime\n",
    "import numpy as np\n",
    "import math\n",
    "\n",
    "client_id = \"6538920d435d4008b7a494fe07783e46\"\n",
    "client_secret = \"7d8bf7518fd64e528602d51e0838d579\"\n"
   ]
  },
  {
   "cell_type": "code",
   "execution_count": 2,
   "id": "3aa67699",
   "metadata": {},
   "outputs": [],
   "source": [
    "client_credentials_manager = SpotifyClientCredentials(client_id = client_id, client_secret = client_secret)"
   ]
  },
  {
   "cell_type": "code",
   "execution_count": 3,
   "id": "92d5f429",
   "metadata": {},
   "outputs": [],
   "source": [
    "sp_query = spotipy.Spotify(client_credentials_manager=client_credentials_manager)\n"
   ]
  },
  {
   "cell_type": "code",
   "execution_count": 4,
   "id": "aca00f28",
   "metadata": {},
   "outputs": [],
   "source": [
    "# Set up query with credentials\n",
    "sp = spotipy.Spotify(\n",
    "            client_credentials_manager=SpotifyClientCredentials(\n",
    "            client_id=client_id,\n",
    "            client_secret=client_secret))\n"
   ]
  },
  {
   "cell_type": "code",
   "execution_count": 5,
   "id": "39000ca9",
   "metadata": {},
   "outputs": [],
   "source": [
    "url_jazz = 'spotify:playlist:4RX5Fi21BPhwvBuyNyX2QH'\n",
    "url_hiphop = 'spotify:playlist:3wgMzHp2YD4VNJLGOSRmPl'"
   ]
  },
  {
   "cell_type": "code",
   "execution_count": 6,
   "id": "f05a90d2",
   "metadata": {},
   "outputs": [],
   "source": [
    "def analyse_playlist(url):\n",
    "    \"\"\"Retrieves all songs from an identified playlist, and takes the ID, song, album, artist \n",
    "    and puts this all into a DataFrame\"\"\"\n",
    "\n",
    "   # SONG NAMES\n",
    "\n",
    "    offset=0\n",
    "    name = []\n",
    "\n",
    "    while True:\n",
    "        response = sp.playlist_tracks(url,\n",
    "                                      offset=offset,\n",
    "                                      fields=['items.track.name,total'])\n",
    "\n",
    "        name.append(response[\"items\"])\n",
    "        offset = offset + len(response['items'])\n",
    "        \n",
    "        if len(response['items']) == 0:\n",
    "            break\n",
    "\n",
    "    name_list = [b[\"track\"][\"name\"] for a in name for b in a]\n",
    "    len(name_list)\n",
    "    \n",
    "    \n",
    "\n",
    "    # ALBUM\n",
    "\n",
    "    offset=0\n",
    "    album = []\n",
    "\n",
    "    while True:\n",
    "        response = sp.playlist_tracks(url,\n",
    "                                      offset=offset,\n",
    "                                      fields=['items.track.album.name,total'])\n",
    "\n",
    "        album.append(response[\"items\"])\n",
    "        offset = offset + len(response['items'])\n",
    "        \n",
    "        if len(response['items']) == 0:\n",
    "            break\n",
    "\n",
    "    album_list = [b[\"track\"][\"album\"][\"name\"] for a in album for b in a]\n",
    "\n",
    "    \n",
    "    \n",
    "   # ARTIST\n",
    "\n",
    "    offset=0\n",
    "    artist = []\n",
    "\n",
    "    while True:\n",
    "        response = sp.playlist_tracks(url,\n",
    "                                      offset=offset,\n",
    "                                      fields=['items.track.album.artists.name,total'])\n",
    "\n",
    "        artist.append(response[\"items\"])\n",
    "        offset = offset + len(response['items'])\n",
    "        \n",
    "        if len(response['items']) == 0:\n",
    "            break\n",
    "\n",
    "    artist_list = [b[\"track\"][\"album\"][\"artists\"][0][\"name\"] for a in artist for b in a]\n",
    "\n",
    "    \n",
    "    # ID\n",
    "    \n",
    "    offset = 0\n",
    "    identifier = []\n",
    "\n",
    "    while True:\n",
    "        response = sp.playlist_tracks(url,\n",
    "                                      offset=offset,\n",
    "                                      fields=['items.track.id,total'])\n",
    "\n",
    "        identifier.append(response[\"items\"])\n",
    "        offset = offset + len(response['items'])\n",
    "        \n",
    "        if len(response['items']) == 0:\n",
    "            break\n",
    "\n",
    "    identifier_list= [b[\"track\"][\"id\"] for a in identifier for b in a]\n",
    "    len(identifier_list)\n",
    "\n",
    "    #Get audio features\n",
    "    features = [sp.audio_features(identifier) for identifier in identifier_list]\n",
    "    \n",
    "    # Get each invidividual feature\n",
    "    danceability = [(b[\"danceability\"]) for a in features for b in a]    \n",
    "    mode = [(b[\"mode\"]) for a in features for b in a]\n",
    "    energy = [(b[\"energy\"]) for a in features for b in a]\n",
    "    key = [(b[\"key\"]) for a in features for b in a]        \n",
    "    loudness = [(b[\"loudness\"]) for a in features for b in a]       \n",
    "    speechiness = [(b[\"speechiness\"]) for a in features for b in a]\n",
    "    acousticness = [(b[\"acousticness\"]) for a in features for b in a]        \n",
    "    instrumentalness = [(b[\"instrumentalness\"]) for a in features for b in a] \n",
    "    liveness = [(b[\"liveness\"]) for a in features for b in a]\n",
    "    valence = [(b[\"valence\"]) for a in features for b in a]        \n",
    "    tempo = [(b[\"tempo\"]) for a in features for b in a] \n",
    "    duration_ms = [(b[\"duration_ms\"]) for a in features for b in a] \n",
    "    identifier_ = [(b[\"id\"]) for a in features for b in a] \n",
    "    \n",
    "    ## DataFrame (saved with current time)\n",
    "\n",
    "    df = pd.DataFrame({\"Song name\": name_list, \"Artist\": artist_list, \"Album\": album_list, \"ID\": identifier_list})\n",
    "    df_2 = pd.DataFrame({\"Danceability\":danceability,\n",
    "                         \"Mode\":mode,\n",
    "                         \"Energy\":energy,\n",
    "                         \"Key\":key,\n",
    "                         \"Loudness\":loudness,\n",
    "                         \"Speechiness\":speechiness,\n",
    "                         \"Acousticness\":acousticness,\n",
    "                         \"Instrumentalness\":instrumentalness,\n",
    "                         \"Liveness\":liveness,\n",
    "                         \"Valence\":valence,\n",
    "                         \"Tempo\":tempo,\n",
    "                         \"Duration (ms)\": duration_ms,\n",
    "                         \"ID_CHECK\":identifier_\n",
    "                               })\n",
    "\n",
    "    df_combined = df_2.join(df)\n",
    "    \n",
    "    df_combined.to_excel(\"df\" + datetime.now().strftime(format=\"%f\") + \".xlsx\")\n",
    "\n",
    "    return df_combined.tail()"
   ]
  },
  {
   "cell_type": "code",
   "execution_count": null,
   "id": "711de2bb",
   "metadata": {},
   "outputs": [],
   "source": [
    "analyse_playlist(url_hiphop)\n",
    "analyse_playlist(url_jazz)"
   ]
  },
  {
   "cell_type": "code",
   "execution_count": null,
   "id": "e62c2784",
   "metadata": {},
   "outputs": [],
   "source": [
    "# Label the class of each genre, jazz = 0, hiphop = 1\n",
    "labelled_jazz = pd.read_excel(\"JAZZ_.xlsx\", index_col=0, usecols=[0,1,2,3,4,5,6,7,8,9,10,11])\n",
    "labelled_hiphop = pd.read_excel(\"HIPHOP.xlsx\", index_col=0, usecols=[0,1,2,3,4,5,6,7,8,9,10,11])\n",
    "labelled_jazz[\"Class\"] = 0\n",
    "labelled_hiphop[\"Class\"] = 1\n",
    "\n",
    "# Combine to create a full dataframe\n",
    "full_data = labelled_jazz.append(labelled_hiphop[:1861], ignore_index=True)\n",
    "\n",
    "# Scale between 0 and 1\n",
    "full_data[\"Key\"] = (full_data[\"Key\"] / full_data[\"Key\"].max())\n",
    "full_data[\"Tempo\"] = (full_data[\"Tempo\"] / full_data[\"Tempo\"].max())\n",
    "full_data[\"Loudness\"] = (full_data[\"Loudness\"] / full_data[\"Loudness\"].min())\n",
    "\n",
    "full_data_random = full_data.sample(frac=1)\n",
    "full_data_random"
   ]
  },
  {
   "cell_type": "code",
   "execution_count": null,
   "id": "7e511986",
   "metadata": {},
   "outputs": [],
   "source": [
    "# Get x training data\n",
    "x_train = full_data_random[0:3000]\n",
    "\n",
    "# Target values\n",
    "y_train = x_train[\"Class\"].values\n",
    "\n",
    "# Remove target values from x_data\n",
    "x_train = x_train.drop(\"Class\", axis=1)\n",
    "x_train"
   ]
  },
  {
   "cell_type": "code",
   "execution_count": null,
   "id": "ae339911",
   "metadata": {},
   "outputs": [],
   "source": [
    "from sklearn.neighbors import KNeighborsClassifier\n",
    "from sklearn.model_selection import cross_val_score\n",
    "from IPython.core.display import Image, display\n",
    "\n",
    "knn = KNeighborsClassifier(n_neighbors=61)\n",
    "\n",
    "#cross_validate\n",
    "cv_scores = cross_val_score(knn, x_train, y_train, cv=10)\n",
    "knn.fit(x_train, y_train)"
   ]
  },
  {
   "cell_type": "code",
   "execution_count": null,
   "id": "5a03e163",
   "metadata": {},
   "outputs": [],
   "source": [
    "x_test = full_data_random[3000:]\n",
    "\n",
    "# Randomise the data\n",
    "x_test = x_test.sample(frac=1)\n",
    "\n",
    "y_test = x_test[\"Class\"].values\n",
    "\n",
    "x_test = x_test.drop(\"Class\", axis=1)\n",
    "x_test"
   ]
  },
  {
   "cell_type": "code",
   "execution_count": null,
   "id": "359a9615",
   "metadata": {},
   "outputs": [],
   "source": [
    "predictions = knn.predict(x_test)\n",
    "predictions"
   ]
  },
  {
   "cell_type": "code",
   "execution_count": null,
   "id": "bde4f51b",
   "metadata": {},
   "outputs": [],
   "source": [
    "accuracy_score = knn.score(x_test, y_test)\n",
    "print(\"Accuracy score = \"\"{:.2f}\".format(accuracy_score))"
   ]
  },
  {
   "cell_type": "code",
   "execution_count": null,
   "id": "4dc3b6bb",
   "metadata": {},
   "outputs": [],
   "source": [
    "url_test = 'spotify:playlist:1mjYVGCwhXZVxoNWBBLlL0'\n",
    "analyse_playlist(url_test)"
   ]
  },
  {
   "cell_type": "code",
   "execution_count": null,
   "id": "7b8fc436",
   "metadata": {},
   "outputs": [],
   "source": [
    "labelled_test = pd.read_excel(\"TEST.xlsx\", index_col=0, usecols=[0,1,2,3,4,5,6,7,8,9,10,11])\n",
    "labelled_test[\"Key\"] = (labelled_test[\"Key\"] / labelled_test[\"Key\"].max())\n",
    "labelled_test[\"Tempo\"] = (labelled_test[\"Tempo\"] / labelled_test[\"Tempo\"].max())\n",
    "labelled_test[\"Loudness\"] = (labelled_test[\"Loudness\"] / labelled_test[\"Loudness\"].min())"
   ]
  },
  {
   "cell_type": "code",
   "execution_count": null,
   "id": "8d017eb7",
   "metadata": {},
   "outputs": [],
   "source": [
    "predictionsTest = knn.predict(labelled_test)\n",
    "predictionsTest"
   ]
  },
  {
   "cell_type": "code",
   "execution_count": null,
   "id": "a9fcfd4b",
   "metadata": {},
   "outputs": [],
   "source": []
  }
 ],
 "metadata": {
  "kernelspec": {
   "display_name": "Python 3",
   "language": "python",
   "name": "python3"
  },
  "language_info": {
   "codemirror_mode": {
    "name": "ipython",
    "version": 3
   },
   "file_extension": ".py",
   "mimetype": "text/x-python",
   "name": "python",
   "nbconvert_exporter": "python",
   "pygments_lexer": "ipython3",
   "version": "3.8.8"
  }
 },
 "nbformat": 4,
 "nbformat_minor": 5
}
